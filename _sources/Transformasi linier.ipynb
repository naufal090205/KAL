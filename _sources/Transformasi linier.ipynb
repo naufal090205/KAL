{
 "cells": [
  {
   "cell_type": "markdown",
   "metadata": {
    "id": "04_GN6N58sqe"
   },
   "source": [
    "# Transformasi Linier"
   ]
  },
  {
   "cell_type": "markdown",
   "metadata": {
    "id": "Oki2FVLv8wuF"
   },
   "source": [
    "## Definisi Transformasi Linier\n",
    "\n",
    "Linear Transformation atau Transformasi Linear adalah suatu konsep matematika yang digunakan untuk mengubah suatu vektor atau matriks menjadi vektor atau matriks baru dengan menggunakan suatu fungsi linear. Transformasi linear sering digunakan dalam berbagai bidang seperti fisika, teknik, dan ilmu  komputer."
   ]
  },
  {
   "cell_type": "markdown",
   "metadata": {
    "id": "hlEHSz1W8ozd"
   },
   "source": [
    "### Soal\n",
    "\n",
    "Tunjukkan bahwa transformasi linier $ T: \\mathbb{R}^2 \\to \\mathbb{R}^2 $ yang dinyatakan oleh matrik:\n",
    "\n",
    "$\n",
    "A = \\begin{bmatrix}\n",
    "\\cos\\theta & -\\sin\\theta \\\\\n",
    "\\sin\\theta & \\cos\\theta\n",
    "\\end{bmatrix}\n",
    "$\n",
    "\n",
    "memiliki suatu vektor dalam koordinat kartesius dinyatakan dalam koordinat polar sebagai :     \n",
    "\n",
    "$\n",
    "\\mathbf{v} = \\begin{bmatrix} x \\\\ y \\end{bmatrix} = \\begin{bmatrix} r \\cos\\alpha \\\\ r \\sin\\alpha \\end{bmatrix}\n",
    "$\n",
    "\n",
    "dengan $ r $ merupakan panjang vektor $ \\mathbf{v} $, dan $ \\alpha $ menyatakan sudut antara sumbu-$ x $ positif dengan vektor $ \\mathbf{v} $.\n",
    "\n",
    "Transformasikan vektor $ \\mathbf{v} $ dengan matriks $ A $:\n",
    "\n",
    "$\n",
    "A \\mathbf{v} = \\begin{bmatrix}\n",
    "\\cos\\theta & -\\sin\\theta \\\\\n",
    "\\sin\\theta & \\cos\\theta\n",
    "\\end{bmatrix}\n",
    "\\begin{bmatrix}\n",
    "r \\cos\\alpha \\\\\n",
    "r \\sin\\alpha\n",
    "\\end{bmatrix}\n",
    "$\n",
    "\n",
    "Dengan melakukan perkalian matriks, diperoleh:\n",
    "\n",
    "$\n",
    "A \\mathbf{v} = \\begin{bmatrix}\n",
    "r(\\cos\\theta \\cos\\alpha - \\sin\\theta \\sin\\alpha) \\\\\n",
    "r(\\sin\\theta \\cos\\alpha + \\cos\\theta \\sin\\alpha)\n",
    "\\end{bmatrix}\n",
    "$\n",
    "\n",
    "Menggunakan identitas trigonometri untuk penjumlahan sudut:\n",
    "$\n",
    "\\cos(\\alpha + \\theta) = \\cos\\alpha\\cos\\theta - \\sin\\alpha\\sin\\theta \\quad \\text{(Identitas cosinus)}\n",
    "$\n",
    "$\n",
    "\\sin(\\alpha + \\theta) = \\sin\\alpha\\cos\\theta + \\cos\\alpha\\sin\\theta \\quad \\text{(Identitas sinus)}\n",
    "$\n",
    "\n",
    "Maka hasil transformasi dapat ditulis sebagai:\n",
    "$\n",
    "A \\mathbf{v} = r \\begin{bmatrix} \\cos(\\alpha + \\theta) \\\\ \\sin(\\alpha + \\theta) \\end{bmatrix}\n",
    "$\n",
    "\n",
    "Persamaan ini menunjukkan bahwa vektor hasil transformasi memiliki panjang yang sama ($ r $) tetapi sudut bertambah sebesar $ \\theta $, yang berarti vektor tersebut telah dirotasi sebesar $ \\theta $ berlawanan arah jarum jam.\n",
    "\n",
    "#### **Kesimpulan**\n",
    "\n",
    "Transformasi linier $ T $ dengan matriks:\n",
    "\n",
    "$\n",
    "A = \\begin{bmatrix}\n",
    "\\cos\\theta & -\\sin\\theta \\\\\n",
    "\\sin\\theta & \\cos\\theta\n",
    "\\end{bmatrix}\n",
    "$\n",
    "\n",
    "adalah sebuah rotasi terhadap titik asal sebesar sudut $ \\theta $ berlawanan arah jarum jam.\n",
    "\n",
    "\n",
    "\n"
   ]
  }
 ],
 "metadata": {
  "colab": {
   "authorship_tag": "ABX9TyOZJaK63UBc7UmWrvSsSvRG",
   "provenance": []
  },
  "kernelspec": {
   "display_name": "Python 3",
   "name": "python3"
  },
  "language_info": {
   "name": "python"
  }
 },
 "nbformat": 4,
 "nbformat_minor": 0
}
